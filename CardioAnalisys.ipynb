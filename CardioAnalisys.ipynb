{
  "nbformat": 4,
  "nbformat_minor": 0,
  "metadata": {
    "colab": {
      "name": "CardioAnalisys.ipynb",
      "provenance": [],
      "collapsed_sections": []
    },
    "kernelspec": {
      "name": "python3",
      "display_name": "Python 3"
    }
  },
  "cells": [
    {
      "cell_type": "code",
      "metadata": {
        "id": "1Y-W0_rwFi-5",
        "outputId": "c672a4b1-b4b3-4834-d2a1-3857ac9c5418",
        "colab": {
          "base_uri": "https://localhost:8080/",
          "height": 34
        }
      },
      "source": [
        "#Habilitando o acesso ao Drive\n",
        "from google.colab import drive\n",
        "drive.mount('/content/drive')"
      ],
      "execution_count": 248,
      "outputs": [
        {
          "output_type": "stream",
          "text": [
            "Drive already mounted at /content/drive; to attempt to forcibly remount, call drive.mount(\"/content/drive\", force_remount=True).\n"
          ],
          "name": "stdout"
        }
      ]
    },
    {
      "cell_type": "markdown",
      "metadata": {
        "id": "Zhw14eEx6rlv"
      },
      "source": [
        "#Neste projeto, iremos analisar o dataset Cardiovascular Disease dataset, extraído do Kaggle: https://www.kaggle.com/sulianova/cardiovascular-disease-dataset\n",
        "\n",
        "###Inicialmente, é realizado um tratamento dos dados, separando, por exemplo, dados categóricos em one-hot vectors. Posteriormente, é feita uma breve análise de correlação entre as features e os labels.\n",
        "\n",
        "###A seguir, features consideradas menos relevantes são retiradas e features que influenciam indiretamente são combinadas, gerando novas relações. Um exemplo de feature nova criada é o IMC - Índice de massa corporal, que utiliza uma relação entre altura e peso, mostrando-se mais adequado do que apenas essas duas features sozinhas.\n",
        "\n",
        "###Por fim, utilizando pytorch, é implementada uma MLP para realizar a tarefa de classificação."
      ]
    },
    {
      "cell_type": "markdown",
      "metadata": {
        "id": "TOklBfrCJkWl"
      },
      "source": [
        "Descrição dos dados:\n",
        "\n",
        "*   Coluna 1: Idade em dias (inteiro)\n",
        "*   Coluna 2: Altura em cm (inteiro)\n",
        "*   Coluna 3: Peso em kg (float)\n",
        "*   Coluna 4: Gênero (dado categórico)\n",
        "*   Coluna 5: Pressão sanguínea sistólica (inteiro)\n",
        "*   Coluna 6: Pressão sanguínea diastólica (inteiro)\n",
        "*   Coluna 7: Colesterol (1 - normal; 2 - acima do normal; 3 muito acima do normal)\n",
        "*   Coluna 8: Glicose (1 - normal; 2 - acima do normal; 3 muito acima do normal)\n",
        "*   Coluna 9: Consumo de cigarro (1 - Sim ; 0 - Não)\n",
        "*   Coluna 10: Consumo de álcool (1 - Sim ; 0 - Não)\n",
        "*   Coluna 11: Realiza atividade física (1 - Sim ; 0 - Não)\n",
        "*   Coluna 12: Presença ou ausência de doença cardiovascular (1 - Sim ; 0 - Não)"
      ]
    },
    {
      "cell_type": "code",
      "metadata": {
        "id": "YW8amtBhF3H_",
        "outputId": "f219833e-d8cf-43b8-f794-f81d454409d7",
        "colab": {
          "base_uri": "https://localhost:8080/",
          "height": 419
        }
      },
      "source": [
        "import pandas as pd\n",
        "import numpy as np\n",
        "import seaborn as sb\n",
        "import matplotlib.pyplot as plt\n",
        "\n",
        "#Importando o dataset\n",
        "dataset = pd.read_csv(\"/content/drive/My Drive/Colab Notebooks/cardio_train.csv\", sep=';')\n",
        "dataset"
      ],
      "execution_count": 249,
      "outputs": [
        {
          "output_type": "execute_result",
          "data": {
            "text/html": [
              "<div>\n",
              "<style scoped>\n",
              "    .dataframe tbody tr th:only-of-type {\n",
              "        vertical-align: middle;\n",
              "    }\n",
              "\n",
              "    .dataframe tbody tr th {\n",
              "        vertical-align: top;\n",
              "    }\n",
              "\n",
              "    .dataframe thead th {\n",
              "        text-align: right;\n",
              "    }\n",
              "</style>\n",
              "<table border=\"1\" class=\"dataframe\">\n",
              "  <thead>\n",
              "    <tr style=\"text-align: right;\">\n",
              "      <th></th>\n",
              "      <th>id</th>\n",
              "      <th>age</th>\n",
              "      <th>gender</th>\n",
              "      <th>height</th>\n",
              "      <th>weight</th>\n",
              "      <th>ap_hi</th>\n",
              "      <th>ap_lo</th>\n",
              "      <th>cholesterol</th>\n",
              "      <th>gluc</th>\n",
              "      <th>smoke</th>\n",
              "      <th>alco</th>\n",
              "      <th>active</th>\n",
              "      <th>cardio</th>\n",
              "    </tr>\n",
              "  </thead>\n",
              "  <tbody>\n",
              "    <tr>\n",
              "      <th>0</th>\n",
              "      <td>0</td>\n",
              "      <td>18393</td>\n",
              "      <td>2</td>\n",
              "      <td>168</td>\n",
              "      <td>62.0</td>\n",
              "      <td>110</td>\n",
              "      <td>80</td>\n",
              "      <td>1</td>\n",
              "      <td>1</td>\n",
              "      <td>0</td>\n",
              "      <td>0</td>\n",
              "      <td>1</td>\n",
              "      <td>0</td>\n",
              "    </tr>\n",
              "    <tr>\n",
              "      <th>1</th>\n",
              "      <td>1</td>\n",
              "      <td>20228</td>\n",
              "      <td>1</td>\n",
              "      <td>156</td>\n",
              "      <td>85.0</td>\n",
              "      <td>140</td>\n",
              "      <td>90</td>\n",
              "      <td>3</td>\n",
              "      <td>1</td>\n",
              "      <td>0</td>\n",
              "      <td>0</td>\n",
              "      <td>1</td>\n",
              "      <td>1</td>\n",
              "    </tr>\n",
              "    <tr>\n",
              "      <th>2</th>\n",
              "      <td>2</td>\n",
              "      <td>18857</td>\n",
              "      <td>1</td>\n",
              "      <td>165</td>\n",
              "      <td>64.0</td>\n",
              "      <td>130</td>\n",
              "      <td>70</td>\n",
              "      <td>3</td>\n",
              "      <td>1</td>\n",
              "      <td>0</td>\n",
              "      <td>0</td>\n",
              "      <td>0</td>\n",
              "      <td>1</td>\n",
              "    </tr>\n",
              "    <tr>\n",
              "      <th>3</th>\n",
              "      <td>3</td>\n",
              "      <td>17623</td>\n",
              "      <td>2</td>\n",
              "      <td>169</td>\n",
              "      <td>82.0</td>\n",
              "      <td>150</td>\n",
              "      <td>100</td>\n",
              "      <td>1</td>\n",
              "      <td>1</td>\n",
              "      <td>0</td>\n",
              "      <td>0</td>\n",
              "      <td>1</td>\n",
              "      <td>1</td>\n",
              "    </tr>\n",
              "    <tr>\n",
              "      <th>4</th>\n",
              "      <td>4</td>\n",
              "      <td>17474</td>\n",
              "      <td>1</td>\n",
              "      <td>156</td>\n",
              "      <td>56.0</td>\n",
              "      <td>100</td>\n",
              "      <td>60</td>\n",
              "      <td>1</td>\n",
              "      <td>1</td>\n",
              "      <td>0</td>\n",
              "      <td>0</td>\n",
              "      <td>0</td>\n",
              "      <td>0</td>\n",
              "    </tr>\n",
              "    <tr>\n",
              "      <th>...</th>\n",
              "      <td>...</td>\n",
              "      <td>...</td>\n",
              "      <td>...</td>\n",
              "      <td>...</td>\n",
              "      <td>...</td>\n",
              "      <td>...</td>\n",
              "      <td>...</td>\n",
              "      <td>...</td>\n",
              "      <td>...</td>\n",
              "      <td>...</td>\n",
              "      <td>...</td>\n",
              "      <td>...</td>\n",
              "      <td>...</td>\n",
              "    </tr>\n",
              "    <tr>\n",
              "      <th>69995</th>\n",
              "      <td>99993</td>\n",
              "      <td>19240</td>\n",
              "      <td>2</td>\n",
              "      <td>168</td>\n",
              "      <td>76.0</td>\n",
              "      <td>120</td>\n",
              "      <td>80</td>\n",
              "      <td>1</td>\n",
              "      <td>1</td>\n",
              "      <td>1</td>\n",
              "      <td>0</td>\n",
              "      <td>1</td>\n",
              "      <td>0</td>\n",
              "    </tr>\n",
              "    <tr>\n",
              "      <th>69996</th>\n",
              "      <td>99995</td>\n",
              "      <td>22601</td>\n",
              "      <td>1</td>\n",
              "      <td>158</td>\n",
              "      <td>126.0</td>\n",
              "      <td>140</td>\n",
              "      <td>90</td>\n",
              "      <td>2</td>\n",
              "      <td>2</td>\n",
              "      <td>0</td>\n",
              "      <td>0</td>\n",
              "      <td>1</td>\n",
              "      <td>1</td>\n",
              "    </tr>\n",
              "    <tr>\n",
              "      <th>69997</th>\n",
              "      <td>99996</td>\n",
              "      <td>19066</td>\n",
              "      <td>2</td>\n",
              "      <td>183</td>\n",
              "      <td>105.0</td>\n",
              "      <td>180</td>\n",
              "      <td>90</td>\n",
              "      <td>3</td>\n",
              "      <td>1</td>\n",
              "      <td>0</td>\n",
              "      <td>1</td>\n",
              "      <td>0</td>\n",
              "      <td>1</td>\n",
              "    </tr>\n",
              "    <tr>\n",
              "      <th>69998</th>\n",
              "      <td>99998</td>\n",
              "      <td>22431</td>\n",
              "      <td>1</td>\n",
              "      <td>163</td>\n",
              "      <td>72.0</td>\n",
              "      <td>135</td>\n",
              "      <td>80</td>\n",
              "      <td>1</td>\n",
              "      <td>2</td>\n",
              "      <td>0</td>\n",
              "      <td>0</td>\n",
              "      <td>0</td>\n",
              "      <td>1</td>\n",
              "    </tr>\n",
              "    <tr>\n",
              "      <th>69999</th>\n",
              "      <td>99999</td>\n",
              "      <td>20540</td>\n",
              "      <td>1</td>\n",
              "      <td>170</td>\n",
              "      <td>72.0</td>\n",
              "      <td>120</td>\n",
              "      <td>80</td>\n",
              "      <td>2</td>\n",
              "      <td>1</td>\n",
              "      <td>0</td>\n",
              "      <td>0</td>\n",
              "      <td>1</td>\n",
              "      <td>0</td>\n",
              "    </tr>\n",
              "  </tbody>\n",
              "</table>\n",
              "<p>70000 rows × 13 columns</p>\n",
              "</div>"
            ],
            "text/plain": [
              "          id    age  gender  height  weight  ...  gluc  smoke  alco  active  cardio\n",
              "0          0  18393       2     168    62.0  ...     1      0     0       1       0\n",
              "1          1  20228       1     156    85.0  ...     1      0     0       1       1\n",
              "2          2  18857       1     165    64.0  ...     1      0     0       0       1\n",
              "3          3  17623       2     169    82.0  ...     1      0     0       1       1\n",
              "4          4  17474       1     156    56.0  ...     1      0     0       0       0\n",
              "...      ...    ...     ...     ...     ...  ...   ...    ...   ...     ...     ...\n",
              "69995  99993  19240       2     168    76.0  ...     1      1     0       1       0\n",
              "69996  99995  22601       1     158   126.0  ...     2      0     0       1       1\n",
              "69997  99996  19066       2     183   105.0  ...     1      0     1       0       1\n",
              "69998  99998  22431       1     163    72.0  ...     2      0     0       0       1\n",
              "69999  99999  20540       1     170    72.0  ...     1      0     0       1       0\n",
              "\n",
              "[70000 rows x 13 columns]"
            ]
          },
          "metadata": {
            "tags": []
          },
          "execution_count": 249
        }
      ]
    },
    {
      "cell_type": "code",
      "metadata": {
        "id": "7AmxE1hBGc6z"
      },
      "source": [
        "#A primeira coluna é indiferente para análise. Por isso, iremos eliminá-la\n",
        "dataset = dataset.drop(columns=[\"id\"])"
      ],
      "execution_count": 250,
      "outputs": []
    },
    {
      "cell_type": "code",
      "metadata": {
        "id": "WfjlKV4WuF5A",
        "outputId": "b14583b2-18ac-4930-a047-dceb03b8e087",
        "colab": {
          "base_uri": "https://localhost:8080/",
          "height": 51
        }
      },
      "source": [
        "#Vamos checar o balanceamento dos True Negativos(Não tem doença cardíaca) e True Positivos(tem doença cardíaca do dataset)\n",
        "positivo = 0\n",
        "negativo = 0\n",
        "for i in dataset['cardio']:\n",
        "  if(dataset['cardio'][i] == 1):\n",
        "    positivo += 1\n",
        "  elif(dataset['cardio'][i] == 0):\n",
        "    negativo += 1\n",
        "  else:\n",
        "    print(\"ERRO NO LABEL DO DATASET\")\n",
        "\n",
        "print(\"POSITIVO: \", positivo)\n",
        "print(\"NEGATIVO: \", negativo)\n",
        "\n",
        "#Como os dados estão balanceados, não é necessário realizar um balenceamento"
      ],
      "execution_count": 251,
      "outputs": [
        {
          "output_type": "stream",
          "text": [
            "POSITIVO:  34979\n",
            "NEGATIVO:  35021\n"
          ],
          "name": "stdout"
        }
      ]
    },
    {
      "cell_type": "markdown",
      "metadata": {
        "id": "civcrtuS40BE"
      },
      "source": [
        "Para uma análise extra e treinar a manipulação dos dados, vamos medir o índice de massa corporal de cada um dos indivíduos. Não se trata de uma medida ideal pois provavelmente um indicador da porcentagem de gordura corporal traria melhores resultados, porém é uma análise válida que pode ser feita. O cálculo do IMC é dado por:\n",
        "\n",
        "$$\\frac{Peso}{Altura^2}$$\n",
        "\n",
        "Onde a altura é calculada em metros e o peso em kg.\n"
      ]
    },
    {
      "cell_type": "code",
      "metadata": {
        "id": "uXO0RNQy4x1_",
        "outputId": "434314e9-c596-4ab0-e869-13babc78b498",
        "colab": {
          "base_uri": "https://localhost:8080/",
          "height": 419
        }
      },
      "source": [
        "peso = dataset['weight']\n",
        "altura = dataset['height']/100\n",
        "\n",
        "IMC = peso/(altura*altura)\n",
        "\n",
        "dataset['imc'] = IMC\n",
        "dataset"
      ],
      "execution_count": 252,
      "outputs": [
        {
          "output_type": "execute_result",
          "data": {
            "text/html": [
              "<div>\n",
              "<style scoped>\n",
              "    .dataframe tbody tr th:only-of-type {\n",
              "        vertical-align: middle;\n",
              "    }\n",
              "\n",
              "    .dataframe tbody tr th {\n",
              "        vertical-align: top;\n",
              "    }\n",
              "\n",
              "    .dataframe thead th {\n",
              "        text-align: right;\n",
              "    }\n",
              "</style>\n",
              "<table border=\"1\" class=\"dataframe\">\n",
              "  <thead>\n",
              "    <tr style=\"text-align: right;\">\n",
              "      <th></th>\n",
              "      <th>age</th>\n",
              "      <th>gender</th>\n",
              "      <th>height</th>\n",
              "      <th>weight</th>\n",
              "      <th>ap_hi</th>\n",
              "      <th>ap_lo</th>\n",
              "      <th>cholesterol</th>\n",
              "      <th>gluc</th>\n",
              "      <th>smoke</th>\n",
              "      <th>alco</th>\n",
              "      <th>active</th>\n",
              "      <th>cardio</th>\n",
              "      <th>imc</th>\n",
              "    </tr>\n",
              "  </thead>\n",
              "  <tbody>\n",
              "    <tr>\n",
              "      <th>0</th>\n",
              "      <td>18393</td>\n",
              "      <td>2</td>\n",
              "      <td>168</td>\n",
              "      <td>62.0</td>\n",
              "      <td>110</td>\n",
              "      <td>80</td>\n",
              "      <td>1</td>\n",
              "      <td>1</td>\n",
              "      <td>0</td>\n",
              "      <td>0</td>\n",
              "      <td>1</td>\n",
              "      <td>0</td>\n",
              "      <td>21.967120</td>\n",
              "    </tr>\n",
              "    <tr>\n",
              "      <th>1</th>\n",
              "      <td>20228</td>\n",
              "      <td>1</td>\n",
              "      <td>156</td>\n",
              "      <td>85.0</td>\n",
              "      <td>140</td>\n",
              "      <td>90</td>\n",
              "      <td>3</td>\n",
              "      <td>1</td>\n",
              "      <td>0</td>\n",
              "      <td>0</td>\n",
              "      <td>1</td>\n",
              "      <td>1</td>\n",
              "      <td>34.927679</td>\n",
              "    </tr>\n",
              "    <tr>\n",
              "      <th>2</th>\n",
              "      <td>18857</td>\n",
              "      <td>1</td>\n",
              "      <td>165</td>\n",
              "      <td>64.0</td>\n",
              "      <td>130</td>\n",
              "      <td>70</td>\n",
              "      <td>3</td>\n",
              "      <td>1</td>\n",
              "      <td>0</td>\n",
              "      <td>0</td>\n",
              "      <td>0</td>\n",
              "      <td>1</td>\n",
              "      <td>23.507805</td>\n",
              "    </tr>\n",
              "    <tr>\n",
              "      <th>3</th>\n",
              "      <td>17623</td>\n",
              "      <td>2</td>\n",
              "      <td>169</td>\n",
              "      <td>82.0</td>\n",
              "      <td>150</td>\n",
              "      <td>100</td>\n",
              "      <td>1</td>\n",
              "      <td>1</td>\n",
              "      <td>0</td>\n",
              "      <td>0</td>\n",
              "      <td>1</td>\n",
              "      <td>1</td>\n",
              "      <td>28.710479</td>\n",
              "    </tr>\n",
              "    <tr>\n",
              "      <th>4</th>\n",
              "      <td>17474</td>\n",
              "      <td>1</td>\n",
              "      <td>156</td>\n",
              "      <td>56.0</td>\n",
              "      <td>100</td>\n",
              "      <td>60</td>\n",
              "      <td>1</td>\n",
              "      <td>1</td>\n",
              "      <td>0</td>\n",
              "      <td>0</td>\n",
              "      <td>0</td>\n",
              "      <td>0</td>\n",
              "      <td>23.011177</td>\n",
              "    </tr>\n",
              "    <tr>\n",
              "      <th>...</th>\n",
              "      <td>...</td>\n",
              "      <td>...</td>\n",
              "      <td>...</td>\n",
              "      <td>...</td>\n",
              "      <td>...</td>\n",
              "      <td>...</td>\n",
              "      <td>...</td>\n",
              "      <td>...</td>\n",
              "      <td>...</td>\n",
              "      <td>...</td>\n",
              "      <td>...</td>\n",
              "      <td>...</td>\n",
              "      <td>...</td>\n",
              "    </tr>\n",
              "    <tr>\n",
              "      <th>69995</th>\n",
              "      <td>19240</td>\n",
              "      <td>2</td>\n",
              "      <td>168</td>\n",
              "      <td>76.0</td>\n",
              "      <td>120</td>\n",
              "      <td>80</td>\n",
              "      <td>1</td>\n",
              "      <td>1</td>\n",
              "      <td>1</td>\n",
              "      <td>0</td>\n",
              "      <td>1</td>\n",
              "      <td>0</td>\n",
              "      <td>26.927438</td>\n",
              "    </tr>\n",
              "    <tr>\n",
              "      <th>69996</th>\n",
              "      <td>22601</td>\n",
              "      <td>1</td>\n",
              "      <td>158</td>\n",
              "      <td>126.0</td>\n",
              "      <td>140</td>\n",
              "      <td>90</td>\n",
              "      <td>2</td>\n",
              "      <td>2</td>\n",
              "      <td>0</td>\n",
              "      <td>0</td>\n",
              "      <td>1</td>\n",
              "      <td>1</td>\n",
              "      <td>50.472681</td>\n",
              "    </tr>\n",
              "    <tr>\n",
              "      <th>69997</th>\n",
              "      <td>19066</td>\n",
              "      <td>2</td>\n",
              "      <td>183</td>\n",
              "      <td>105.0</td>\n",
              "      <td>180</td>\n",
              "      <td>90</td>\n",
              "      <td>3</td>\n",
              "      <td>1</td>\n",
              "      <td>0</td>\n",
              "      <td>1</td>\n",
              "      <td>0</td>\n",
              "      <td>1</td>\n",
              "      <td>31.353579</td>\n",
              "    </tr>\n",
              "    <tr>\n",
              "      <th>69998</th>\n",
              "      <td>22431</td>\n",
              "      <td>1</td>\n",
              "      <td>163</td>\n",
              "      <td>72.0</td>\n",
              "      <td>135</td>\n",
              "      <td>80</td>\n",
              "      <td>1</td>\n",
              "      <td>2</td>\n",
              "      <td>0</td>\n",
              "      <td>0</td>\n",
              "      <td>0</td>\n",
              "      <td>1</td>\n",
              "      <td>27.099251</td>\n",
              "    </tr>\n",
              "    <tr>\n",
              "      <th>69999</th>\n",
              "      <td>20540</td>\n",
              "      <td>1</td>\n",
              "      <td>170</td>\n",
              "      <td>72.0</td>\n",
              "      <td>120</td>\n",
              "      <td>80</td>\n",
              "      <td>2</td>\n",
              "      <td>1</td>\n",
              "      <td>0</td>\n",
              "      <td>0</td>\n",
              "      <td>1</td>\n",
              "      <td>0</td>\n",
              "      <td>24.913495</td>\n",
              "    </tr>\n",
              "  </tbody>\n",
              "</table>\n",
              "<p>70000 rows × 13 columns</p>\n",
              "</div>"
            ],
            "text/plain": [
              "         age  gender  height  weight  ...  alco  active  cardio        imc\n",
              "0      18393       2     168    62.0  ...     0       1       0  21.967120\n",
              "1      20228       1     156    85.0  ...     0       1       1  34.927679\n",
              "2      18857       1     165    64.0  ...     0       0       1  23.507805\n",
              "3      17623       2     169    82.0  ...     0       1       1  28.710479\n",
              "4      17474       1     156    56.0  ...     0       0       0  23.011177\n",
              "...      ...     ...     ...     ...  ...   ...     ...     ...        ...\n",
              "69995  19240       2     168    76.0  ...     0       1       0  26.927438\n",
              "69996  22601       1     158   126.0  ...     0       1       1  50.472681\n",
              "69997  19066       2     183   105.0  ...     1       0       1  31.353579\n",
              "69998  22431       1     163    72.0  ...     0       0       1  27.099251\n",
              "69999  20540       1     170    72.0  ...     0       1       0  24.913495\n",
              "\n",
              "[70000 rows x 13 columns]"
            ]
          },
          "metadata": {
            "tags": []
          },
          "execution_count": 252
        }
      ]
    },
    {
      "cell_type": "code",
      "metadata": {
        "id": "QRthvlqYL7b1"
      },
      "source": [
        "#Agora, iremos analisar a correlação entre as features e o label.\n",
        "#Começando com dados quantitativos, iremos criar um heatmap para analisar a correlação entre uma feature e a presença de doença cardiovascular.\n",
        "categorical_data = dataset[['gender', 'cholesterol', 'gluc', 'smoke', 'alco', 'active', 'cardio']]\n",
        "numerical_data = dataset[['age', 'height', 'weight', 'ap_hi', 'ap_lo','imc', 'cardio']]"
      ],
      "execution_count": 253,
      "outputs": []
    },
    {
      "cell_type": "markdown",
      "metadata": {
        "id": "luVuyNuFppUP"
      },
      "source": [
        "Agora vamos normalizar os dados numéricos. Para isso, utilizaremos o min-max feature scaling, que reescala os dados para o range [0,1] através da equação:\n",
        "    $$ \\frac{X_{norm}}{X_{max} -X_{min}} $$"
      ]
    },
    {
      "cell_type": "code",
      "metadata": {
        "id": "qQ8PgTjKtUeS",
        "outputId": "52752d05-c804-4558-9cf7-f5d5b82430a7",
        "colab": {
          "base_uri": "https://localhost:8080/",
          "height": 419
        }
      },
      "source": [
        "def min_max_scaling(df):\n",
        "    # copy the dataframe\n",
        "    df_norm = df.copy()\n",
        "    # apply min-max scaling\n",
        "    for column in df_norm.columns:\n",
        "        df_norm[column] = (df_norm[column] - df_norm[column].min()) / (df_norm[column].max() - df_norm[column].min())\n",
        "        \n",
        "    return df_norm\n",
        "\n",
        "numerical_data = min_max_scaling(numerical_data)\n",
        "numerical_data"
      ],
      "execution_count": 254,
      "outputs": [
        {
          "output_type": "execute_result",
          "data": {
            "text/html": [
              "<div>\n",
              "<style scoped>\n",
              "    .dataframe tbody tr th:only-of-type {\n",
              "        vertical-align: middle;\n",
              "    }\n",
              "\n",
              "    .dataframe tbody tr th {\n",
              "        vertical-align: top;\n",
              "    }\n",
              "\n",
              "    .dataframe thead th {\n",
              "        text-align: right;\n",
              "    }\n",
              "</style>\n",
              "<table border=\"1\" class=\"dataframe\">\n",
              "  <thead>\n",
              "    <tr style=\"text-align: right;\">\n",
              "      <th></th>\n",
              "      <th>age</th>\n",
              "      <th>height</th>\n",
              "      <th>weight</th>\n",
              "      <th>ap_hi</th>\n",
              "      <th>ap_lo</th>\n",
              "      <th>imc</th>\n",
              "      <th>cardio</th>\n",
              "    </tr>\n",
              "  </thead>\n",
              "  <tbody>\n",
              "    <tr>\n",
              "      <th>0</th>\n",
              "      <td>0.588076</td>\n",
              "      <td>0.579487</td>\n",
              "      <td>0.273684</td>\n",
              "      <td>0.016079</td>\n",
              "      <td>0.013550</td>\n",
              "      <td>0.062655</td>\n",
              "      <td>0.0</td>\n",
              "    </tr>\n",
              "    <tr>\n",
              "      <th>1</th>\n",
              "      <td>0.730159</td>\n",
              "      <td>0.517949</td>\n",
              "      <td>0.394737</td>\n",
              "      <td>0.017934</td>\n",
              "      <td>0.014453</td>\n",
              "      <td>0.106560</td>\n",
              "      <td>1.0</td>\n",
              "    </tr>\n",
              "    <tr>\n",
              "      <th>2</th>\n",
              "      <td>0.624003</td>\n",
              "      <td>0.564103</td>\n",
              "      <td>0.284211</td>\n",
              "      <td>0.017316</td>\n",
              "      <td>0.012647</td>\n",
              "      <td>0.067874</td>\n",
              "      <td>1.0</td>\n",
              "    </tr>\n",
              "    <tr>\n",
              "      <th>3</th>\n",
              "      <td>0.528455</td>\n",
              "      <td>0.584615</td>\n",
              "      <td>0.378947</td>\n",
              "      <td>0.018553</td>\n",
              "      <td>0.015357</td>\n",
              "      <td>0.085498</td>\n",
              "      <td>1.0</td>\n",
              "    </tr>\n",
              "    <tr>\n",
              "      <th>4</th>\n",
              "      <td>0.516918</td>\n",
              "      <td>0.517949</td>\n",
              "      <td>0.242105</td>\n",
              "      <td>0.015461</td>\n",
              "      <td>0.011743</td>\n",
              "      <td>0.066192</td>\n",
              "      <td>0.0</td>\n",
              "    </tr>\n",
              "    <tr>\n",
              "      <th>...</th>\n",
              "      <td>...</td>\n",
              "      <td>...</td>\n",
              "      <td>...</td>\n",
              "      <td>...</td>\n",
              "      <td>...</td>\n",
              "      <td>...</td>\n",
              "      <td>...</td>\n",
              "    </tr>\n",
              "    <tr>\n",
              "      <th>69995</th>\n",
              "      <td>0.653659</td>\n",
              "      <td>0.579487</td>\n",
              "      <td>0.347368</td>\n",
              "      <td>0.016698</td>\n",
              "      <td>0.013550</td>\n",
              "      <td>0.079458</td>\n",
              "      <td>0.0</td>\n",
              "    </tr>\n",
              "    <tr>\n",
              "      <th>69996</th>\n",
              "      <td>0.913899</td>\n",
              "      <td>0.528205</td>\n",
              "      <td>0.610526</td>\n",
              "      <td>0.017934</td>\n",
              "      <td>0.014453</td>\n",
              "      <td>0.159220</td>\n",
              "      <td>1.0</td>\n",
              "    </tr>\n",
              "    <tr>\n",
              "      <th>69997</th>\n",
              "      <td>0.640186</td>\n",
              "      <td>0.656410</td>\n",
              "      <td>0.500000</td>\n",
              "      <td>0.020408</td>\n",
              "      <td>0.014453</td>\n",
              "      <td>0.094452</td>\n",
              "      <td>1.0</td>\n",
              "    </tr>\n",
              "    <tr>\n",
              "      <th>69998</th>\n",
              "      <td>0.900736</td>\n",
              "      <td>0.553846</td>\n",
              "      <td>0.326316</td>\n",
              "      <td>0.017625</td>\n",
              "      <td>0.013550</td>\n",
              "      <td>0.080040</td>\n",
              "      <td>1.0</td>\n",
              "    </tr>\n",
              "    <tr>\n",
              "      <th>69999</th>\n",
              "      <td>0.754317</td>\n",
              "      <td>0.589744</td>\n",
              "      <td>0.326316</td>\n",
              "      <td>0.016698</td>\n",
              "      <td>0.013550</td>\n",
              "      <td>0.072636</td>\n",
              "      <td>0.0</td>\n",
              "    </tr>\n",
              "  </tbody>\n",
              "</table>\n",
              "<p>70000 rows × 7 columns</p>\n",
              "</div>"
            ],
            "text/plain": [
              "            age    height    weight     ap_hi     ap_lo       imc  cardio\n",
              "0      0.588076  0.579487  0.273684  0.016079  0.013550  0.062655     0.0\n",
              "1      0.730159  0.517949  0.394737  0.017934  0.014453  0.106560     1.0\n",
              "2      0.624003  0.564103  0.284211  0.017316  0.012647  0.067874     1.0\n",
              "3      0.528455  0.584615  0.378947  0.018553  0.015357  0.085498     1.0\n",
              "4      0.516918  0.517949  0.242105  0.015461  0.011743  0.066192     0.0\n",
              "...         ...       ...       ...       ...       ...       ...     ...\n",
              "69995  0.653659  0.579487  0.347368  0.016698  0.013550  0.079458     0.0\n",
              "69996  0.913899  0.528205  0.610526  0.017934  0.014453  0.159220     1.0\n",
              "69997  0.640186  0.656410  0.500000  0.020408  0.014453  0.094452     1.0\n",
              "69998  0.900736  0.553846  0.326316  0.017625  0.013550  0.080040     1.0\n",
              "69999  0.754317  0.589744  0.326316  0.016698  0.013550  0.072636     0.0\n",
              "\n",
              "[70000 rows x 7 columns]"
            ]
          },
          "metadata": {
            "tags": []
          },
          "execution_count": 254
        }
      ]
    },
    {
      "cell_type": "code",
      "metadata": {
        "id": "iKQCcUSRMm66",
        "outputId": "ac136d6f-870f-4080-b4ac-40b7791d9fad",
        "colab": {
          "base_uri": "https://localhost:8080/",
          "height": 419
        }
      },
      "source": [
        "#Transformando dados categóricos em one-hot vectors\n",
        "categorical_data = pd.concat([categorical_data, pd.get_dummies(categorical_data['gender'], prefix='gender')], axis = 1)\n",
        "categorical_data = pd.concat([categorical_data, pd.get_dummies(categorical_data['cholesterol'], prefix='cholesterol')], axis = 1)\n",
        "categorical_data = pd.concat([categorical_data, pd.get_dummies(categorical_data['gluc'], prefix='gluc')], axis = 1)\n",
        "categorical_data = pd.concat([categorical_data, pd.get_dummies(categorical_data['cardio'], prefix='cardio')], axis = 1)\n",
        "\n",
        "#Retirando os que não são one-hot \n",
        "categorical_data = categorical_data.drop(columns=['gender', 'cholesterol', 'gluc'])\n",
        "\n",
        "categorical_data\n"
      ],
      "execution_count": 255,
      "outputs": [
        {
          "output_type": "execute_result",
          "data": {
            "text/html": [
              "<div>\n",
              "<style scoped>\n",
              "    .dataframe tbody tr th:only-of-type {\n",
              "        vertical-align: middle;\n",
              "    }\n",
              "\n",
              "    .dataframe tbody tr th {\n",
              "        vertical-align: top;\n",
              "    }\n",
              "\n",
              "    .dataframe thead th {\n",
              "        text-align: right;\n",
              "    }\n",
              "</style>\n",
              "<table border=\"1\" class=\"dataframe\">\n",
              "  <thead>\n",
              "    <tr style=\"text-align: right;\">\n",
              "      <th></th>\n",
              "      <th>smoke</th>\n",
              "      <th>alco</th>\n",
              "      <th>active</th>\n",
              "      <th>cardio</th>\n",
              "      <th>gender_1</th>\n",
              "      <th>gender_2</th>\n",
              "      <th>cholesterol_1</th>\n",
              "      <th>cholesterol_2</th>\n",
              "      <th>cholesterol_3</th>\n",
              "      <th>gluc_1</th>\n",
              "      <th>gluc_2</th>\n",
              "      <th>gluc_3</th>\n",
              "      <th>cardio_0</th>\n",
              "      <th>cardio_1</th>\n",
              "    </tr>\n",
              "  </thead>\n",
              "  <tbody>\n",
              "    <tr>\n",
              "      <th>0</th>\n",
              "      <td>0</td>\n",
              "      <td>0</td>\n",
              "      <td>1</td>\n",
              "      <td>0</td>\n",
              "      <td>0</td>\n",
              "      <td>1</td>\n",
              "      <td>1</td>\n",
              "      <td>0</td>\n",
              "      <td>0</td>\n",
              "      <td>1</td>\n",
              "      <td>0</td>\n",
              "      <td>0</td>\n",
              "      <td>1</td>\n",
              "      <td>0</td>\n",
              "    </tr>\n",
              "    <tr>\n",
              "      <th>1</th>\n",
              "      <td>0</td>\n",
              "      <td>0</td>\n",
              "      <td>1</td>\n",
              "      <td>1</td>\n",
              "      <td>1</td>\n",
              "      <td>0</td>\n",
              "      <td>0</td>\n",
              "      <td>0</td>\n",
              "      <td>1</td>\n",
              "      <td>1</td>\n",
              "      <td>0</td>\n",
              "      <td>0</td>\n",
              "      <td>0</td>\n",
              "      <td>1</td>\n",
              "    </tr>\n",
              "    <tr>\n",
              "      <th>2</th>\n",
              "      <td>0</td>\n",
              "      <td>0</td>\n",
              "      <td>0</td>\n",
              "      <td>1</td>\n",
              "      <td>1</td>\n",
              "      <td>0</td>\n",
              "      <td>0</td>\n",
              "      <td>0</td>\n",
              "      <td>1</td>\n",
              "      <td>1</td>\n",
              "      <td>0</td>\n",
              "      <td>0</td>\n",
              "      <td>0</td>\n",
              "      <td>1</td>\n",
              "    </tr>\n",
              "    <tr>\n",
              "      <th>3</th>\n",
              "      <td>0</td>\n",
              "      <td>0</td>\n",
              "      <td>1</td>\n",
              "      <td>1</td>\n",
              "      <td>0</td>\n",
              "      <td>1</td>\n",
              "      <td>1</td>\n",
              "      <td>0</td>\n",
              "      <td>0</td>\n",
              "      <td>1</td>\n",
              "      <td>0</td>\n",
              "      <td>0</td>\n",
              "      <td>0</td>\n",
              "      <td>1</td>\n",
              "    </tr>\n",
              "    <tr>\n",
              "      <th>4</th>\n",
              "      <td>0</td>\n",
              "      <td>0</td>\n",
              "      <td>0</td>\n",
              "      <td>0</td>\n",
              "      <td>1</td>\n",
              "      <td>0</td>\n",
              "      <td>1</td>\n",
              "      <td>0</td>\n",
              "      <td>0</td>\n",
              "      <td>1</td>\n",
              "      <td>0</td>\n",
              "      <td>0</td>\n",
              "      <td>1</td>\n",
              "      <td>0</td>\n",
              "    </tr>\n",
              "    <tr>\n",
              "      <th>...</th>\n",
              "      <td>...</td>\n",
              "      <td>...</td>\n",
              "      <td>...</td>\n",
              "      <td>...</td>\n",
              "      <td>...</td>\n",
              "      <td>...</td>\n",
              "      <td>...</td>\n",
              "      <td>...</td>\n",
              "      <td>...</td>\n",
              "      <td>...</td>\n",
              "      <td>...</td>\n",
              "      <td>...</td>\n",
              "      <td>...</td>\n",
              "      <td>...</td>\n",
              "    </tr>\n",
              "    <tr>\n",
              "      <th>69995</th>\n",
              "      <td>1</td>\n",
              "      <td>0</td>\n",
              "      <td>1</td>\n",
              "      <td>0</td>\n",
              "      <td>0</td>\n",
              "      <td>1</td>\n",
              "      <td>1</td>\n",
              "      <td>0</td>\n",
              "      <td>0</td>\n",
              "      <td>1</td>\n",
              "      <td>0</td>\n",
              "      <td>0</td>\n",
              "      <td>1</td>\n",
              "      <td>0</td>\n",
              "    </tr>\n",
              "    <tr>\n",
              "      <th>69996</th>\n",
              "      <td>0</td>\n",
              "      <td>0</td>\n",
              "      <td>1</td>\n",
              "      <td>1</td>\n",
              "      <td>1</td>\n",
              "      <td>0</td>\n",
              "      <td>0</td>\n",
              "      <td>1</td>\n",
              "      <td>0</td>\n",
              "      <td>0</td>\n",
              "      <td>1</td>\n",
              "      <td>0</td>\n",
              "      <td>0</td>\n",
              "      <td>1</td>\n",
              "    </tr>\n",
              "    <tr>\n",
              "      <th>69997</th>\n",
              "      <td>0</td>\n",
              "      <td>1</td>\n",
              "      <td>0</td>\n",
              "      <td>1</td>\n",
              "      <td>0</td>\n",
              "      <td>1</td>\n",
              "      <td>0</td>\n",
              "      <td>0</td>\n",
              "      <td>1</td>\n",
              "      <td>1</td>\n",
              "      <td>0</td>\n",
              "      <td>0</td>\n",
              "      <td>0</td>\n",
              "      <td>1</td>\n",
              "    </tr>\n",
              "    <tr>\n",
              "      <th>69998</th>\n",
              "      <td>0</td>\n",
              "      <td>0</td>\n",
              "      <td>0</td>\n",
              "      <td>1</td>\n",
              "      <td>1</td>\n",
              "      <td>0</td>\n",
              "      <td>1</td>\n",
              "      <td>0</td>\n",
              "      <td>0</td>\n",
              "      <td>0</td>\n",
              "      <td>1</td>\n",
              "      <td>0</td>\n",
              "      <td>0</td>\n",
              "      <td>1</td>\n",
              "    </tr>\n",
              "    <tr>\n",
              "      <th>69999</th>\n",
              "      <td>0</td>\n",
              "      <td>0</td>\n",
              "      <td>1</td>\n",
              "      <td>0</td>\n",
              "      <td>1</td>\n",
              "      <td>0</td>\n",
              "      <td>0</td>\n",
              "      <td>1</td>\n",
              "      <td>0</td>\n",
              "      <td>1</td>\n",
              "      <td>0</td>\n",
              "      <td>0</td>\n",
              "      <td>1</td>\n",
              "      <td>0</td>\n",
              "    </tr>\n",
              "  </tbody>\n",
              "</table>\n",
              "<p>70000 rows × 14 columns</p>\n",
              "</div>"
            ],
            "text/plain": [
              "       smoke  alco  active  cardio  ...  gluc_2  gluc_3  cardio_0  cardio_1\n",
              "0          0     0       1       0  ...       0       0         1         0\n",
              "1          0     0       1       1  ...       0       0         0         1\n",
              "2          0     0       0       1  ...       0       0         0         1\n",
              "3          0     0       1       1  ...       0       0         0         1\n",
              "4          0     0       0       0  ...       0       0         1         0\n",
              "...      ...   ...     ...     ...  ...     ...     ...       ...       ...\n",
              "69995      1     0       1       0  ...       0       0         1         0\n",
              "69996      0     0       1       1  ...       1       0         0         1\n",
              "69997      0     1       0       1  ...       0       0         0         1\n",
              "69998      0     0       0       1  ...       1       0         0         1\n",
              "69999      0     0       1       0  ...       0       0         1         0\n",
              "\n",
              "[70000 rows x 14 columns]"
            ]
          },
          "metadata": {
            "tags": []
          },
          "execution_count": 255
        }
      ]
    },
    {
      "cell_type": "code",
      "metadata": {
        "id": "B46aEht3aEpl",
        "outputId": "7a67ec4f-c98b-42f1-b268-6d123a91a28a",
        "colab": {
          "base_uri": "https://localhost:8080/",
          "height": 372
        }
      },
      "source": [
        "#Vamos criar um BarPlot para analisar a correlação das features com o label\n",
        "#Para a correlação, utilizaremos o método de pearson\n",
        "aux_cat_data = categorical_data.drop(columns=['cardio_0', 'cardio_1'])\n",
        "cor_pearson = aux_cat_data.corr(method='pearson')\n",
        "\n",
        "#Dropando o cardio, pois ele tem uma relação de 1 para 1 com o cárdio\n",
        "cor_pearson = cor_pearson.drop('cardio')\n",
        "\n",
        "#Plotando um gráfico de barras com a correlação\n",
        "cor_pearson['cardio'].plot.bar(subplots=True, color='g')\n"
      ],
      "execution_count": 256,
      "outputs": [
        {
          "output_type": "execute_result",
          "data": {
            "text/plain": [
              "array([<matplotlib.axes._subplots.AxesSubplot object at 0x7f73afa0b0b8>],\n",
              "      dtype=object)"
            ]
          },
          "metadata": {
            "tags": []
          },
          "execution_count": 256
        },
        {
          "output_type": "display_data",
          "data": {
            "image/png": "[encoded data removed]",
            "text/plain": [
              "<Figure size 432x288 with 1 Axes>"
            ]
          },
          "metadata": {
            "tags": [],
            "needs_background": "light"
          }
        }
      ]
    },
    {
      "cell_type": "markdown",
      "metadata": {
        "id": "tPf9nihOreXW"
      },
      "source": [
        "Como podemos notar pelo gráfico, algumas features possuem uma relação muito baixa com doenças cardíacas, como por exemplo fumar, alcool, genero"
      ]
    },
    {
      "cell_type": "code",
      "metadata": {
        "id": "jGN9V3_ovoBS",
        "outputId": "34cec82f-fb13-4641-928f-d7090fb26166",
        "colab": {
          "base_uri": "https://localhost:8080/",
          "height": 339
        }
      },
      "source": [
        "#Agora, vamos analisar os dados numéricos\n",
        "#Para a correlação, utilizaremos o método de pearson\n",
        "cor_pearson = numerical_data.corr(method='pearson')\n",
        "\n",
        "#Dropando o cardio, pois ele tem uma relação de 1 para 1 com o cárdio\n",
        "cor_pearson = cor_pearson.drop('cardio')\n",
        "\n",
        "#Plotando um gráfico de barras com a correlação\n",
        "cor_pearson['cardio'].plot.bar(subplots=True, color='g', )"
      ],
      "execution_count": 257,
      "outputs": [
        {
          "output_type": "execute_result",
          "data": {
            "text/plain": [
              "array([<matplotlib.axes._subplots.AxesSubplot object at 0x7f73ae857780>],\n",
              "      dtype=object)"
            ]
          },
          "metadata": {
            "tags": []
          },
          "execution_count": 257
        },
        {
          "output_type": "display_data",
          "data": {
            "image/png": "[encoded data removed]",
            "text/plain": [
              "<Figure size 432x288 with 1 Axes>"
            ]
          },
          "metadata": {
            "tags": [],
            "needs_background": "light"
          }
        }
      ]
    },
    {
      "cell_type": "markdown",
      "metadata": {
        "id": "YPG7SN2mwXfY"
      },
      "source": [
        "Removeremos da análise a altura, pois diretamente ela não tem alta correlação com o fato da pessoa ter doença cardíaca ou não.\n",
        "\n",
        "Além disso, note que o imc possui uma correlação menor do que o peso. Isso se dá pois, analisando apenas o peso, acabamos levando em consideração indivíduos que são mais pesados por terem um maior indice de massa corporal e também indivíduos que são mais pesados por serem mais altos. Dessa forma, utilizando o IMC, excluímos o segundo caso.\n"
      ]
    },
    {
      "cell_type": "markdown",
      "metadata": {
        "id": "O6YboIWUAut0"
      },
      "source": [
        "###Agora vamos separar os dados de treino e teste, tão bem como as features e labels. Além disso, retiraremos as features que não serão utilizadas no treino.\n",
        "\n",
        "###Faremos duas análises. Uma considerando apenas o IMC e não o peso, e outra considerando apenas o peso e não o IMC.\n"
      ]
    },
    {
      "cell_type": "code",
      "metadata": {
        "id": "cg9P5Rq2A0Pl"
      },
      "source": [
        "#Dados para o treino considerando o Peso\n",
        "aux1 = numerical_data[[\"age\", \"weight\", \"ap_hi\", \"ap_lo\"]]\n",
        "aux2 = categorical_data[[\"cholesterol_1\", \"cholesterol_2\", \"cholesterol_3\", \"gluc_1\", \"gluc_2\", \"gluc_3\", \"cardio_0\", \"cardio_1\"]]\n",
        "aux3 = pd.concat([aux1, aux2], axis=1)\n",
        "\n",
        "train_weight_x, train_weight_y = aux3.iloc[0:60000, 0:10], aux3.iloc[0:60000, 10:12]\n",
        "\n",
        "test_weight_x, test_weight_y = aux3.iloc[60001: -1, 0:10], aux3.iloc[60001: -1, 10:12]\n",
        "\n",
        "#Dados para o treino considerando o IMC\n",
        "aux1 = numerical_data[[\"age\", \"imc\", \"ap_hi\", \"ap_lo\"]]\n",
        "aux2 = categorical_data[[\"cholesterol_1\", \"cholesterol_2\", \"cholesterol_3\", \"gluc_1\", \"gluc_2\", \"gluc_3\", \"cardio\"]]\n",
        "aux3 = pd.concat([aux1, aux2], axis=1)\n",
        "\n",
        "train_imc_x, train_imc_y = aux1.iloc[0:60000, 0:10], aux3.iloc[0:60000, 10:11]\n",
        "\n",
        "test_imc_x, test_imc_y = aux3.iloc[60001:70000, 0:10], aux3.iloc[60001:70000, 10:11]"
      ],
      "execution_count": 258,
      "outputs": []
    },
    {
      "cell_type": "markdown",
      "metadata": {
        "id": "ISx1TN6zNPRV"
      },
      "source": [
        "## **Agora vamos para o treino :)** \n",
        "\n"
      ]
    },
    {
      "cell_type": "markdown",
      "metadata": {
        "id": "dw9L3wKRNWVX"
      },
      "source": [
        "Primeiramente, vamos criar nosso modelo de análise. Para este problema, foi escolhida uma Multi-Layer Perceptron para realizar a classificação.\n",
        "\n",
        "A arquitetura usada pela rede foi:\n",
        "\n",
        "Learning Rate: "
      ]
    },
    {
      "cell_type": "markdown",
      "metadata": {
        "id": "rYZPV4FINzaY"
      },
      "source": [
        "Abaixo, é definido o modelo da nossa rede"
      ]
    },
    {
      "cell_type": "code",
      "metadata": {
        "id": "zbbg5IEXN4w2",
        "outputId": "1264efb1-6b98-46b9-dd30-9ad253bca75e",
        "colab": {
          "base_uri": "https://localhost:8080/",
          "height": 102
        }
      },
      "source": [
        "#Definindo o modelo da rede\n",
        "import torch\n",
        "import torch.nn as nn\n",
        "import torch.nn.functional as F\n",
        "from tqdm import tqdm\n",
        "\n",
        "class Cardio_Model(nn.Module):\n",
        "  def __init__(self):\n",
        "    super(Cardio_Model, self).__init__()\n",
        "\n",
        "    self.fc1 = nn.Linear(10, 8)\n",
        "\n",
        "    self.fc2 = nn.Linear(8, 6)\n",
        "    self.fc3 = nn.Linear(6, 2)\n",
        "\n",
        "  def forward(self, x):\n",
        "    x = F.relu(self.fc1(x))\n",
        "    x = F.relu(self.fc2(x))\n",
        "\n",
        "    return F.sigmoid(self.fc3(x))\n",
        "\n",
        "#Testando a rede\n",
        "model = Cardio_Model()\n",
        "model"
      ],
      "execution_count": 259,
      "outputs": [
        {
          "output_type": "execute_result",
          "data": {
            "text/plain": [
              "Cardio_Model(\n",
              "  (fc1): Linear(in_features=10, out_features=8, bias=True)\n",
              "  (fc2): Linear(in_features=8, out_features=6, bias=True)\n",
              "  (fc3): Linear(in_features=6, out_features=2, bias=True)\n",
              ")"
            ]
          },
          "metadata": {
            "tags": []
          },
          "execution_count": 259
        }
      ]
    },
    {
      "cell_type": "markdown",
      "metadata": {
        "id": "24eUytiaDxqY"
      },
      "source": [
        "##**Definindo Variáveis e Hiperparâmetros**\n"
      ]
    },
    {
      "cell_type": "code",
      "metadata": {
        "id": "zx29BeDKRqyp"
      },
      "source": [
        "#Definindo Variáveis e Hiperparâmetros\n",
        "BATCH_SIZE = 1024\n",
        "EPOCHS = 250\n",
        "LEARNING_RATE = 0.002\n",
        "print_results = 60000\n",
        "\n",
        "#Criando o modelo\n",
        "cardio_model = Cardio_Model()\n",
        "\n",
        "#Setando o optimizador e a loss function\n",
        "optimizer = torch.optim.Adam(params=cardio_model.parameters(), lr=LEARNING_RATE)\n",
        "loss_function = nn.BCELoss()"
      ],
      "execution_count": 260,
      "outputs": []
    },
    {
      "cell_type": "markdown",
      "metadata": {
        "id": "MmF3kjDbULWd"
      },
      "source": [
        "Agora, vamos separar nossos dados em batches\n",
        "\n",
        "\n"
      ]
    },
    {
      "cell_type": "code",
      "metadata": {
        "id": "C-9OPcfwfd1K"
      },
      "source": [
        "tensor_x = torch.tensor(train_weight_x.values, dtype=torch.float32)\n",
        "tensor_y = torch.tensor(train_weight_y.values, dtype=torch.float32)"
      ],
      "execution_count": 261,
      "outputs": []
    },
    {
      "cell_type": "code",
      "metadata": {
        "id": "yXoyKYs7UVp-"
      },
      "source": [
        "dl_train_weight_x = torch.utils.data.DataLoader(tensor_x, batch_size=BATCH_SIZE)\n",
        "dl_train_weight_y = torch.utils.data.DataLoader(tensor_y, batch_size=BATCH_SIZE)"
      ],
      "execution_count": 262,
      "outputs": []
    },
    {
      "cell_type": "markdown",
      "metadata": {
        "id": "R0geYXVhRnny"
      },
      "source": [
        "Agora, vamos treinar a rede"
      ]
    },
    {
      "cell_type": "code",
      "metadata": {
        "id": "xVitDKWQg3pm",
        "outputId": "48cee7a0-d016-488e-fb61-4afe67c74647",
        "colab": {
          "base_uri": "https://localhost:8080/",
          "height": 1000
        }
      },
      "source": [
        "#Guarda a loss ao longo das épocas para posteriormente plotar seu gráfico\n",
        "loss_over_epochs = []\n",
        "\n",
        "#Treinando o modelo\n",
        "for epoch in range(EPOCHS):\n",
        "  #Carregando os iteradores de batch\n",
        "  iter_x = iter(dl_train_weight_x)\n",
        "  iter_y = iter(dl_train_weight_y)\n",
        "\n",
        "  for i in range(0, len(train_weight_x), BATCH_SIZE):\n",
        "\n",
        "    #Alocando batch do iterador\n",
        "    batch_X = iter_x.next()\n",
        "    batch_y = iter_y.next()\n",
        "\n",
        "    #Zerando a loss function para não acumular\n",
        "    cardio_model.zero_grad()\n",
        "\n",
        "    #Forward Prop\n",
        "    outputs = cardio_model(batch_X)\n",
        "\n",
        "    #Calculando a loss\n",
        "    loss = loss_function(outputs, batch_y)\n",
        "    #Backward Prop\n",
        "    loss.backward()\n",
        "\n",
        "    #Atualizando os pesos\n",
        "    optimizer.step()\n",
        "\n",
        "    if i % print_results == 0:\n",
        "      #Printando perda e informações\n",
        "      loss_over_epochs.append(loss.item())\n",
        "      print(\"Train Epoch: \", epoch, \"   LOSS: \", loss.item())"
      ],
      "execution_count": 263,
      "outputs": [
        {
          "output_type": "stream",
          "text": [
            "/usr/local/lib/python3.6/dist-packages/torch/nn/functional.py:1625: UserWarning: nn.functional.sigmoid is deprecated. Use torch.sigmoid instead.\n",
            "  warnings.warn(\"nn.functional.sigmoid is deprecated. Use torch.sigmoid instead.\")\n"
          ],
          "name": "stderr"
        },
        {
          "output_type": "stream",
          "text": [
            "Train Epoch:  0    LOSS:  0.7040456533432007\n",
            "Train Epoch:  1    LOSS:  0.6891351938247681\n",
            "Train Epoch:  2    LOSS:  0.6607435941696167\n",
            "Train Epoch:  3    LOSS:  0.6476795673370361\n",
            "Train Epoch:  4    LOSS:  0.6382497549057007\n",
            "Train Epoch:  5    LOSS:  0.6297762393951416\n",
            "Train Epoch:  6    LOSS:  0.6236057877540588\n",
            "Train Epoch:  7    LOSS:  0.6200417876243591\n",
            "Train Epoch:  8    LOSS:  0.6181237101554871\n",
            "Train Epoch:  9    LOSS:  0.6170479655265808\n",
            "Train Epoch:  10    LOSS:  0.616327166557312\n",
            "Train Epoch:  11    LOSS:  0.6158224940299988\n",
            "Train Epoch:  12    LOSS:  0.6154344081878662\n",
            "Train Epoch:  13    LOSS:  0.6151894927024841\n",
            "Train Epoch:  14    LOSS:  0.6149450540542603\n",
            "Train Epoch:  15    LOSS:  0.6147929430007935\n",
            "Train Epoch:  16    LOSS:  0.6145835518836975\n",
            "Train Epoch:  17    LOSS:  0.6143770217895508\n",
            "Train Epoch:  18    LOSS:  0.6141066551208496\n",
            "Train Epoch:  19    LOSS:  0.613876223564148\n",
            "Train Epoch:  20    LOSS:  0.6136170625686646\n",
            "Train Epoch:  21    LOSS:  0.6134771108627319\n",
            "Train Epoch:  22    LOSS:  0.6132458448410034\n",
            "Train Epoch:  23    LOSS:  0.612980306148529\n",
            "Train Epoch:  24    LOSS:  0.6127623915672302\n",
            "Train Epoch:  25    LOSS:  0.6125504374504089\n",
            "Train Epoch:  26    LOSS:  0.612339437007904\n",
            "Train Epoch:  27    LOSS:  0.6121021509170532\n",
            "Train Epoch:  28    LOSS:  0.6118670701980591\n",
            "Train Epoch:  29    LOSS:  0.6116504073143005\n",
            "Train Epoch:  30    LOSS:  0.6114474534988403\n",
            "Train Epoch:  31    LOSS:  0.6111503839492798\n",
            "Train Epoch:  32    LOSS:  0.6109052896499634\n",
            "Train Epoch:  33    LOSS:  0.6106684803962708\n",
            "Train Epoch:  34    LOSS:  0.6104395389556885\n",
            "Train Epoch:  35    LOSS:  0.6101763844490051\n",
            "Train Epoch:  36    LOSS:  0.6099797487258911\n",
            "Train Epoch:  37    LOSS:  0.6096645593643188\n",
            "Train Epoch:  38    LOSS:  0.6094318628311157\n",
            "Train Epoch:  39    LOSS:  0.6091923117637634\n",
            "Train Epoch:  40    LOSS:  0.6089403629302979\n",
            "Train Epoch:  41    LOSS:  0.6086234450340271\n",
            "Train Epoch:  42    LOSS:  0.6083090305328369\n",
            "Train Epoch:  43    LOSS:  0.6079733371734619\n",
            "Train Epoch:  44    LOSS:  0.6075958013534546\n",
            "Train Epoch:  45    LOSS:  0.6072491407394409\n",
            "Train Epoch:  46    LOSS:  0.6069027185440063\n",
            "Train Epoch:  47    LOSS:  0.6064999103546143\n",
            "Train Epoch:  48    LOSS:  0.6060821413993835\n",
            "Train Epoch:  49    LOSS:  0.6056773662567139\n",
            "Train Epoch:  50    LOSS:  0.6052424311637878\n",
            "Train Epoch:  51    LOSS:  0.6047876477241516\n",
            "Train Epoch:  52    LOSS:  0.6043142676353455\n",
            "Train Epoch:  53    LOSS:  0.603827953338623\n",
            "Train Epoch:  54    LOSS:  0.6033397316932678\n",
            "Train Epoch:  55    LOSS:  0.6027535796165466\n",
            "Train Epoch:  56    LOSS:  0.6021777391433716\n",
            "Train Epoch:  57    LOSS:  0.6014912724494934\n",
            "Train Epoch:  58    LOSS:  0.6008970141410828\n",
            "Train Epoch:  59    LOSS:  0.6003244519233704\n",
            "Train Epoch:  60    LOSS:  0.5997227430343628\n",
            "Train Epoch:  61    LOSS:  0.5990613102912903\n",
            "Train Epoch:  62    LOSS:  0.598431408405304\n",
            "Train Epoch:  63    LOSS:  0.5977150201797485\n",
            "Train Epoch:  64    LOSS:  0.5968648791313171\n",
            "Train Epoch:  65    LOSS:  0.5960639715194702\n",
            "Train Epoch:  66    LOSS:  0.5952091813087463\n",
            "Train Epoch:  67    LOSS:  0.5943320989608765\n",
            "Train Epoch:  68    LOSS:  0.5933548212051392\n",
            "Train Epoch:  69    LOSS:  0.5923454761505127\n",
            "Train Epoch:  70    LOSS:  0.5912178754806519\n",
            "Train Epoch:  71    LOSS:  0.5902411937713623\n",
            "Train Epoch:  72    LOSS:  0.5892151594161987\n",
            "Train Epoch:  73    LOSS:  0.5882344245910645\n",
            "Train Epoch:  74    LOSS:  0.5870782732963562\n",
            "Train Epoch:  75    LOSS:  0.5859295725822449\n",
            "Train Epoch:  76    LOSS:  0.5848915576934814\n",
            "Train Epoch:  77    LOSS:  0.5837656259536743\n",
            "Train Epoch:  78    LOSS:  0.582729160785675\n",
            "Train Epoch:  79    LOSS:  0.5816157460212708\n",
            "Train Epoch:  80    LOSS:  0.5806301832199097\n",
            "Train Epoch:  81    LOSS:  0.579412579536438\n",
            "Train Epoch:  82    LOSS:  0.5783151984214783\n",
            "Train Epoch:  83    LOSS:  0.5772303342819214\n",
            "Train Epoch:  84    LOSS:  0.576026201248169\n",
            "Train Epoch:  85    LOSS:  0.5748318433761597\n",
            "Train Epoch:  86    LOSS:  0.5737116932868958\n",
            "Train Epoch:  87    LOSS:  0.5724965333938599\n",
            "Train Epoch:  88    LOSS:  0.5713521838188171\n",
            "Train Epoch:  89    LOSS:  0.5703067779541016\n",
            "Train Epoch:  90    LOSS:  0.5692567229270935\n",
            "Train Epoch:  91    LOSS:  0.5682506561279297\n",
            "Train Epoch:  92    LOSS:  0.567212700843811\n",
            "Train Epoch:  93    LOSS:  0.5660311579704285\n",
            "Train Epoch:  94    LOSS:  0.5649805068969727\n",
            "Train Epoch:  95    LOSS:  0.5639286041259766\n",
            "Train Epoch:  96    LOSS:  0.5628455877304077\n",
            "Train Epoch:  97    LOSS:  0.5618114471435547\n",
            "Train Epoch:  98    LOSS:  0.5608720183372498\n",
            "Train Epoch:  99    LOSS:  0.5599111914634705\n",
            "Train Epoch:  100    LOSS:  0.559036374092102\n",
            "Train Epoch:  101    LOSS:  0.558125913143158\n",
            "Train Epoch:  102    LOSS:  0.5571557283401489\n",
            "Train Epoch:  103    LOSS:  0.5563529133796692\n",
            "Train Epoch:  104    LOSS:  0.5555208921432495\n",
            "Train Epoch:  105    LOSS:  0.5546993613243103\n",
            "Train Epoch:  106    LOSS:  0.5539149045944214\n",
            "Train Epoch:  107    LOSS:  0.553073525428772\n",
            "Train Epoch:  108    LOSS:  0.5522228479385376\n",
            "Train Epoch:  109    LOSS:  0.5514469146728516\n",
            "Train Epoch:  110    LOSS:  0.5507040023803711\n",
            "Train Epoch:  111    LOSS:  0.549877405166626\n",
            "Train Epoch:  112    LOSS:  0.5490142107009888\n",
            "Train Epoch:  113    LOSS:  0.548220157623291\n",
            "Train Epoch:  114    LOSS:  0.5474562048912048\n",
            "Train Epoch:  115    LOSS:  0.5467085242271423\n",
            "Train Epoch:  116    LOSS:  0.5460547208786011\n",
            "Train Epoch:  117    LOSS:  0.5453068017959595\n",
            "Train Epoch:  118    LOSS:  0.5445770621299744\n",
            "Train Epoch:  119    LOSS:  0.5440032482147217\n",
            "Train Epoch:  120    LOSS:  0.5434463620185852\n",
            "Train Epoch:  121    LOSS:  0.5427238345146179\n",
            "Train Epoch:  122    LOSS:  0.542254626750946\n",
            "Train Epoch:  123    LOSS:  0.5417195558547974\n",
            "Train Epoch:  124    LOSS:  0.5413222312927246\n",
            "Train Epoch:  125    LOSS:  0.5408098697662354\n",
            "Train Epoch:  126    LOSS:  0.5403609871864319\n",
            "Train Epoch:  127    LOSS:  0.5398957133293152\n",
            "Train Epoch:  128    LOSS:  0.5394411087036133\n",
            "Train Epoch:  129    LOSS:  0.5390245914459229\n",
            "Train Epoch:  130    LOSS:  0.5386167168617249\n",
            "Train Epoch:  131    LOSS:  0.538323700428009\n",
            "Train Epoch:  132    LOSS:  0.5379060506820679\n",
            "Train Epoch:  133    LOSS:  0.5376226305961609\n",
            "Train Epoch:  134    LOSS:  0.5372726321220398\n",
            "Train Epoch:  135    LOSS:  0.5369455814361572\n",
            "Train Epoch:  136    LOSS:  0.5366497039794922\n",
            "Train Epoch:  137    LOSS:  0.5363993048667908\n",
            "Train Epoch:  138    LOSS:  0.5362460017204285\n",
            "Train Epoch:  139    LOSS:  0.5359784364700317\n",
            "Train Epoch:  140    LOSS:  0.5357696413993835\n",
            "Train Epoch:  141    LOSS:  0.5355307459831238\n",
            "Train Epoch:  142    LOSS:  0.5353318452835083\n",
            "Train Epoch:  143    LOSS:  0.5350667834281921\n",
            "Train Epoch:  144    LOSS:  0.5348650217056274\n",
            "Train Epoch:  145    LOSS:  0.534707248210907\n",
            "Train Epoch:  146    LOSS:  0.5345398187637329\n",
            "Train Epoch:  147    LOSS:  0.5343518257141113\n",
            "Train Epoch:  148    LOSS:  0.5342223644256592\n",
            "Train Epoch:  149    LOSS:  0.5340760350227356\n",
            "Train Epoch:  150    LOSS:  0.5339184999465942\n",
            "Train Epoch:  151    LOSS:  0.5337125658988953\n",
            "Train Epoch:  152    LOSS:  0.5335821509361267\n",
            "Train Epoch:  153    LOSS:  0.5334656238555908\n",
            "Train Epoch:  154    LOSS:  0.5333646535873413\n",
            "Train Epoch:  155    LOSS:  0.5332289338111877\n",
            "Train Epoch:  156    LOSS:  0.5332223773002625\n",
            "Train Epoch:  157    LOSS:  0.533085286617279\n",
            "Train Epoch:  158    LOSS:  0.5328404307365417\n",
            "Train Epoch:  159    LOSS:  0.5327031016349792\n",
            "Train Epoch:  160    LOSS:  0.5326637029647827\n",
            "Train Epoch:  161    LOSS:  0.5324022173881531\n",
            "Train Epoch:  162    LOSS:  0.5324578285217285\n",
            "Train Epoch:  163    LOSS:  0.5323262214660645\n",
            "Train Epoch:  164    LOSS:  0.5322481989860535\n",
            "Train Epoch:  165    LOSS:  0.5323477387428284\n",
            "Train Epoch:  166    LOSS:  0.5326845049858093\n",
            "Train Epoch:  167    LOSS:  0.5344257354736328\n",
            "Train Epoch:  168    LOSS:  0.5349419713020325\n",
            "Train Epoch:  169    LOSS:  0.5347556471824646\n",
            "Train Epoch:  170    LOSS:  0.5347653031349182\n",
            "Train Epoch:  171    LOSS:  0.5343967080116272\n",
            "Train Epoch:  172    LOSS:  0.5344547629356384\n",
            "Train Epoch:  173    LOSS:  0.5348213315010071\n",
            "Train Epoch:  174    LOSS:  0.5345491766929626\n",
            "Train Epoch:  175    LOSS:  0.534372091293335\n",
            "Train Epoch:  176    LOSS:  0.5340645909309387\n",
            "Train Epoch:  177    LOSS:  0.5339263677597046\n",
            "Train Epoch:  178    LOSS:  0.5339493155479431\n",
            "Train Epoch:  179    LOSS:  0.5334196090698242\n",
            "Train Epoch:  180    LOSS:  0.5335042476654053\n",
            "Train Epoch:  181    LOSS:  0.5330362915992737\n",
            "Train Epoch:  182    LOSS:  0.5329426527023315\n",
            "Train Epoch:  183    LOSS:  0.5336810946464539\n",
            "Train Epoch:  184    LOSS:  0.5334575176239014\n",
            "Train Epoch:  185    LOSS:  0.5332427620887756\n",
            "Train Epoch:  186    LOSS:  0.5330127477645874\n",
            "Train Epoch:  187    LOSS:  0.5328853130340576\n",
            "Train Epoch:  188    LOSS:  0.5327908992767334\n",
            "Train Epoch:  189    LOSS:  0.53312748670578\n",
            "Train Epoch:  190    LOSS:  0.5330483913421631\n",
            "Train Epoch:  191    LOSS:  0.5327133536338806\n",
            "Train Epoch:  192    LOSS:  0.5324094295501709\n",
            "Train Epoch:  193    LOSS:  0.5319834351539612\n",
            "Train Epoch:  194    LOSS:  0.5317860841751099\n",
            "Train Epoch:  195    LOSS:  0.5312056541442871\n",
            "Train Epoch:  196    LOSS:  0.5311456918716431\n",
            "Train Epoch:  197    LOSS:  0.5309567451477051\n",
            "Train Epoch:  198    LOSS:  0.5310024619102478\n",
            "Train Epoch:  199    LOSS:  0.531134843826294\n",
            "Train Epoch:  200    LOSS:  0.5307695865631104\n",
            "Train Epoch:  201    LOSS:  0.5304672718048096\n",
            "Train Epoch:  202    LOSS:  0.5305894017219543\n",
            "Train Epoch:  203    LOSS:  0.5305180549621582\n",
            "Train Epoch:  204    LOSS:  0.5301965475082397\n",
            "Train Epoch:  205    LOSS:  0.5301976799964905\n",
            "Train Epoch:  206    LOSS:  0.5299384593963623\n",
            "Train Epoch:  207    LOSS:  0.5298610329627991\n",
            "Train Epoch:  208    LOSS:  0.5296609997749329\n",
            "Train Epoch:  209    LOSS:  0.5296518206596375\n",
            "Train Epoch:  210    LOSS:  0.5296027064323425\n",
            "Train Epoch:  211    LOSS:  0.5295560956001282\n",
            "Train Epoch:  212    LOSS:  0.5294692516326904\n",
            "Train Epoch:  213    LOSS:  0.5295313596725464\n",
            "Train Epoch:  214    LOSS:  0.5292673707008362\n",
            "Train Epoch:  215    LOSS:  0.5292283892631531\n",
            "Train Epoch:  216    LOSS:  0.529258131980896\n",
            "Train Epoch:  217    LOSS:  0.5292949676513672\n",
            "Train Epoch:  218    LOSS:  0.5289832353591919\n",
            "Train Epoch:  219    LOSS:  0.5290659666061401\n",
            "Train Epoch:  220    LOSS:  0.528995931148529\n",
            "Train Epoch:  221    LOSS:  0.5288103222846985\n",
            "Train Epoch:  222    LOSS:  0.5291638970375061\n",
            "Train Epoch:  223    LOSS:  0.5288084745407104\n",
            "Train Epoch:  224    LOSS:  0.5287377834320068\n",
            "Train Epoch:  225    LOSS:  0.5285701751708984\n",
            "Train Epoch:  226    LOSS:  0.5287501811981201\n",
            "Train Epoch:  227    LOSS:  0.5285788774490356\n",
            "Train Epoch:  228    LOSS:  0.528496503829956\n",
            "Train Epoch:  229    LOSS:  0.5285847783088684\n",
            "Train Epoch:  230    LOSS:  0.5287312865257263\n",
            "Train Epoch:  231    LOSS:  0.5282976627349854\n",
            "Train Epoch:  232    LOSS:  0.5284882187843323\n",
            "Train Epoch:  233    LOSS:  0.5284053087234497\n",
            "Train Epoch:  234    LOSS:  0.5284992456436157\n",
            "Train Epoch:  235    LOSS:  0.5284998416900635\n",
            "Train Epoch:  236    LOSS:  0.528397798538208\n",
            "Train Epoch:  237    LOSS:  0.5283267498016357\n",
            "Train Epoch:  238    LOSS:  0.5293107032775879\n",
            "Train Epoch:  239    LOSS:  0.5283087491989136\n",
            "Train Epoch:  240    LOSS:  0.5288073420524597\n",
            "Train Epoch:  241    LOSS:  0.529211163520813\n",
            "Train Epoch:  242    LOSS:  0.5279841423034668\n",
            "Train Epoch:  243    LOSS:  0.5286581516265869\n",
            "Train Epoch:  244    LOSS:  0.5291276574134827\n",
            "Train Epoch:  245    LOSS:  0.5291396379470825\n",
            "Train Epoch:  246    LOSS:  0.5287384390830994\n",
            "Train Epoch:  247    LOSS:  0.5286747813224792\n",
            "Train Epoch:  248    LOSS:  0.5287337303161621\n",
            "Train Epoch:  249    LOSS:  0.5287560224533081\n"
          ],
          "name": "stdout"
        }
      ]
    },
    {
      "cell_type": "markdown",
      "metadata": {
        "id": "5BzmCkK1DOGH"
      },
      "source": [
        "##**Abaixo, temos o gŕafico da Loss ao longo do treinamento.**"
      ]
    },
    {
      "cell_type": "code",
      "metadata": {
        "id": "ReVLbbD2Bb1w",
        "outputId": "f050117e-d5bf-4b0b-ea90-5b69320dd213",
        "colab": {
          "base_uri": "https://localhost:8080/",
          "height": 279
        }
      },
      "source": [
        "#Plotando a Loss\n",
        "import matplotlib.pyplot as plt\n",
        "\n",
        "plt.grid(True, linestyle='-', which='major', color='lightgrey',alpha=0.5)\n",
        "plt.plot(loss_over_epochs, color='g', linewidth=1.5)\n",
        "\n",
        "plt.ylabel(\"Loss\")\n",
        "plt.xlabel(\"Epoch\")\n",
        "\n",
        "plt.show()"
      ],
      "execution_count": 264,
      "outputs": [
        {
          "output_type": "display_data",
          "data": {
            "image/png": "[encoded data removed]",
            "text/plain": [
              "<Figure size 432x288 with 1 Axes>"
            ]
          },
          "metadata": {
            "tags": [],
            "needs_background": "light"
          }
        }
      ]
    },
    {
      "cell_type": "markdown",
      "metadata": {
        "id": "aJv5Kq12EODZ"
      },
      "source": [
        "##**Por fim, vamos avaliar a acurácia do nosso modelo**"
      ]
    },
    {
      "cell_type": "code",
      "metadata": {
        "id": "fjJvbFdSGtY6"
      },
      "source": [
        "tensor_test_x = torch.tensor(test_weight_x.values, dtype=torch.float32)\n",
        "tensor_test_y = torch.tensor(test_weight_y.values, dtype=torch.float32)"
      ],
      "execution_count": 265,
      "outputs": []
    },
    {
      "cell_type": "code",
      "metadata": {
        "id": "7uHKR4iVG1wo"
      },
      "source": [
        "dl_test_weight_x = torch.utils.data.DataLoader(tensor_test_x, batch_size=1)\n",
        "dl_test_weight_y = torch.utils.data.DataLoader(tensor_test_y, batch_size=1)"
      ],
      "execution_count": 266,
      "outputs": []
    },
    {
      "cell_type": "code",
      "metadata": {
        "id": "Pe0uo05AETn-",
        "outputId": "8c083278-9803-4300-c257-321d9ad145d4",
        "colab": {
          "base_uri": "https://localhost:8080/",
          "height": 68
        }
      },
      "source": [
        "correct = 0\n",
        "total = 0\n",
        "true_positive = 0\n",
        "true_negative = 0\n",
        "false_positive = 0\n",
        "false_negative = 0\n",
        "\n",
        "#Carregando os iteradores de batch\n",
        "iter_x = iter(dl_test_weight_x)\n",
        "iter_y = iter(dl_test_weight_y)\n",
        "\n",
        "with torch.no_grad():\n",
        "  for i in tqdm(range(len(test_weight_x))):\n",
        "\n",
        "    #Alocando batch do iterador\n",
        "    batch_X = iter_x.next()\n",
        "    batch_y = iter_y.next()\n",
        "\n",
        "    real_class = torch.argmax(batch_y)\n",
        "    net_out = cardio_model(batch_X)\n",
        "    \n",
        "    predicted_class = torch.argmax(net_out)\n",
        "\n",
        "    #print(\"NET OUT: \", net_out)\n",
        "    #print(\"REAL CLASS: \", real_class)\n",
        "\n",
        "    if(predicted_class == real_class):\n",
        "      correct += 1\n",
        "      #True Positive\n",
        "      if(predicted_class.item() == 1):\n",
        "        true_positive += 1\n",
        "      #True Negative\n",
        "      if(predicted_class.item() == 0):\n",
        "        true_negative += 1\n",
        "\n",
        "    else:\n",
        "      #False Positive \n",
        "      if(predicted_class.item() == 1):\n",
        "        false_positive += 1\n",
        "      #False Negative\n",
        "      elif(predicted_class.item() == 0):\n",
        "        false_negative += 1\n",
        "\n",
        "      \n",
        "    total += 1"
      ],
      "execution_count": 267,
      "outputs": [
        {
          "output_type": "stream",
          "text": [
            "  0%|          | 0/9998 [00:00<?, ?it/s]/usr/local/lib/python3.6/dist-packages/torch/nn/functional.py:1625: UserWarning: nn.functional.sigmoid is deprecated. Use torch.sigmoid instead.\n",
            "  warnings.warn(\"nn.functional.sigmoid is deprecated. Use torch.sigmoid instead.\")\n",
            "100%|██████████| 9998/9998 [00:01<00:00, 6910.67it/s]\n"
          ],
          "name": "stderr"
        }
      ]
    },
    {
      "cell_type": "code",
      "metadata": {
        "id": "nwscONUyGkgg",
        "outputId": "1652a70c-c69f-4ff0-d829-8c3b02c98aa2",
        "colab": {
          "base_uri": "https://localhost:8080/",
          "height": 334
        }
      },
      "source": [
        "#Printando a acurácia e a confusion matrix\n",
        "from sklearn.metrics import plot_confusion_matrix\n",
        "\n",
        "print(\"Accuracy: \", correct/total)\n",
        "print(\"\") \n",
        "\n",
        "confusion_matrix = [[true_positive, false_positive], [true_negative, false_negative]]\n",
        "\n",
        "sb.heatmap(confusion_matrix, vmin=1100, vmax=4000, annot=True, cmap=\"PiYG\")\n",
        "plt.xlabel(\"True/False\")\n",
        "plt.ylabel(\"Positive/Negative\")"
      ],
      "execution_count": 268,
      "outputs": [
        {
          "output_type": "stream",
          "text": [
            "Accuracy:  0.7224444888977796\n",
            "\n"
          ],
          "name": "stdout"
        },
        {
          "output_type": "execute_result",
          "data": {
            "text/plain": [
              "Text(33.0, 0.5, 'Positive/Negative')"
            ]
          },
          "metadata": {
            "tags": []
          },
          "execution_count": 268
        },
        {
          "output_type": "display_data",
          "data": {
            "image/png": "[encoded data removed]",
            "text/plain": [
              "<Figure size 432x288 with 2 Axes>"
            ]
          },
          "metadata": {
            "tags": [],
            "needs_background": "light"
          }
        }
      ]
    },
    {
      "cell_type": "markdown",
      "metadata": {
        "id": "O7hu5-6dRmJQ"
      },
      "source": [
        "##Com isso, é possível ver que obtemos uma acurácia de aproximadamente 72% no nosso classificador. Analisando as discussões sobre esse dataset no kaggle, ninguém conseguiu ainda uma acurácia maior que essa.\n",
        "\n",
        "##Além disso, a autora do dataset ainda não forneceu a fonte deles, ou seja, não sabemos de onde os dados foram retirados.\n",
        "\n",
        "##Desse modo, essa baixa acurácia pode se dar por vários fatores. Existe a possibilidade de ninguém ter achado uma combinação de features, uma arquitetura ou modelo que maximizem os resultados. Como também é possível que os dados estejam viesados. \n",
        "\n",
        "##De qualquer forma, foi um ótimo exercício para praticar!"
      ]
    }
  ]
}